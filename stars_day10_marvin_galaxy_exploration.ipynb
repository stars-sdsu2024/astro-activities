{
 "cells": [
  {
   "cell_type": "markdown",
   "id": "58e5776d",
   "metadata": {
    "id": "58e5776d"
   },
   "source": [
    "# SDSU Training Astronomy Research Scholars (STARS)\n",
    "# Day 10: Marvin Galaxy Exploration\n",
    "\n",
    "\n",
    "### Prof. Kate Rubin <br> July 8, 2024\n",
    "\n",
    "&copy; 2024 Kate Rubin"
   ]
  },
  {
   "cell_type": "markdown",
   "id": "497ba965",
   "metadata": {
    "id": "497ba965"
   },
   "source": [
    "All of the galaxies observed by the SDSS-IV/MaNGA survey are accessible on the [Marvin website](https://dr17.sdss.org/marvin/).  You can use the \"Image Roulette\" button to find some randomly-selected galaxies.  If you click on the image of a galaxy, it will appear in the larger window at right.  You can then click on that larger window to access more information about that object.\n",
    "\n",
    "If you click the \"Map/SpecView Off\" button, that should enable you to see the spectra of the galaxy.  Click on different locations in the galaxy to see how the spectra change depending on location."
   ]
  },
  {
   "cell_type": "markdown",
   "id": "c435b6b9",
   "metadata": {
    "id": "c435b6b9"
   },
   "source": [
    "**Set up.** You will work in groups of 3-4 for this activity.  Note that you'll also need to set up some way to record your findings and share them with the other groups.  I'd recommend creating a Google document for this purpose."
   ]
  },
  {
   "cell_type": "markdown",
   "id": "1be1272a",
   "metadata": {
    "id": "1be1272a"
   },
   "source": [
    "**Exercise.** As a group, use Marvin to select **7** galaxies for study.  You can select them at random, or pick objects that look particularly interesting to your group.  For each galaxy, address the following:"
   ]
  },
  {
   "cell_type": "markdown",
   "id": "eec0ebcb",
   "metadata": {
    "id": "eec0ebcb"
   },
   "source": [
    "**(a)** How would you best describe the shape of this galaxy?"
   ]
  },
  {
   "cell_type": "markdown",
   "id": "105909a0",
   "metadata": {
    "id": "105909a0"
   },
   "source": [
    "**(b)** What color is the galaxy's image?  Does the color change from one place to another?  If so, how?"
   ]
  },
  {
   "cell_type": "markdown",
   "id": "b74e1c23",
   "metadata": {
    "id": "b74e1c23"
   },
   "source": [
    "**(c)** What spectral features do you observe in the spectrum of this object?  Be as specific as possible."
   ]
  },
  {
   "cell_type": "markdown",
   "id": "fc2a17ff",
   "metadata": {
    "id": "fc2a17ff"
   },
   "source": [
    "**(d)** Try to ignore any emission lines for the moment.  If you were forced to assign a stellar spectral type to the spectrum of this object, what would it be, and why?"
   ]
  },
  {
   "cell_type": "markdown",
   "id": "81037367",
   "metadata": {
    "id": "81037367"
   },
   "source": [
    "**(e)** Does the spectrum of the center of this galaxy differ from that of its outer edge?  If so, how?"
   ]
  },
  {
   "cell_type": "markdown",
   "id": "f93638c2",
   "metadata": {
    "id": "f93638c2"
   },
   "source": [
    "Paste the galaxy's image into your Google document, and make notes next to the image so that it is clear which observations go with which image.  Please also record the Plate-IFU ID number for each galaxy."
   ]
  },
  {
   "cell_type": "markdown",
   "id": "0d70fda6",
   "metadata": {
    "id": "0d70fda6"
   },
   "source": [
    "**Synthesize.** Do you notice patterns in your findings?  Do certain spectral features tend to be associated with specific galaxy shapes or colors?  If so, why might this be?"
   ]
  },
  {
   "cell_type": "markdown",
   "id": "0c6a5b5a",
   "metadata": {
    "id": "0c6a5b5a"
   },
   "source": [
    "**Present.** Chose a presenter to present your findings to the other groups.  The presenter should briefly summarize your observations of each galaxy while showing your Google doc on the projector.  Then discuss any patterns you might have noticed as a group."
   ]
  }
 ],
 "metadata": {
  "colab": {
   "provenance": []
  },
  "kernelspec": {
   "display_name": "Python 3 (ipykernel)",
   "language": "python",
   "name": "python3"
  },
  "language_info": {
   "codemirror_mode": {
    "name": "ipython",
    "version": 3
   },
   "file_extension": ".py",
   "mimetype": "text/x-python",
   "name": "python",
   "nbconvert_exporter": "python",
   "pygments_lexer": "ipython3",
   "version": "3.11.5"
  }
 },
 "nbformat": 4,
 "nbformat_minor": 5
}
