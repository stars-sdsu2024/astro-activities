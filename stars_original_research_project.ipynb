{
 "cells": [
  {
   "cell_type": "markdown",
   "id": "b2420358",
   "metadata": {},
   "source": [
    "# SDSU Training Astronomy Research Scholars (STARS)\n",
    "# Original Research Project\n",
    "\n",
    "\n",
    "### Prof. Kate Rubin <br> July 11-19, 2024\n",
    "\n",
    "&copy; 2024 Kate Rubin"
   ]
  },
  {
   "cell_type": "markdown",
   "id": "4b208a45",
   "metadata": {},
   "source": [
    "## Introduction.\n",
    "\n",
    "In this culminating project for STARS, you will work in groups to define your own research question on galaxies.  As a group, you will then use the SDSS-IV/MaNGA dataset, along with the analysis tools you've become familiar with as part of STARS, to answer this question.\n",
    "\n",
    "Each group will have an advisor assigned to them.  The advisor's role will be to provide feedback on the chosen research question, as well as the group's planned experimental design.  The advisor may also provide limited guidance on new analysis techniques in case they are needed.  However, all project work will be led by group members.\n",
    "\n",
    "Each group will show the results of their project in a 10-minute oral presentation on the final day of STARS (Friday, July 19)."
   ]
  },
  {
   "cell_type": "markdown",
   "id": "1c1b68ca",
   "metadata": {},
   "source": [
    "## Reference Material\n",
    "\n",
    "* [Measuring Mass](https://drive.google.com/file/d/1eZ1MOeriGyYelvGcYl9_pDgQQ7mGfULZ/view?usp=sharing)\n",
    "* [Light, Matter & Spectra](https://drive.google.com/file/d/1CWgoWI1tM0e1E8clnF1Pvd9oHN9BNCB4/view?usp=sharing)\n",
    "* [Thermal Radiation & Telescopes](https://drive.google.com/file/d/1NfJ-l-FcjLM3P27BipBv6hOoWtwZxlyt/view?usp=sharing)\n",
    "* [Doppler Effect & Redshift](https://drive.google.com/file/d/12bUIeeh3kZVl38J895q5ebA69DI0JrJ6/view?usp=sharing)\n",
    "* [Stars and the H-R Diagram](https://drive.google.com/file/d/1G0efWCtMbGlT1Ojjn6_UvgBUf8VopiPx/view?usp=sharing)\n",
    "* [Stellar Life Cycles in Galaxies](https://drive.google.com/file/d/1OQpfptzoFOLUbTyQC83EX0AnlCCrQXBk/view?usp=drive_link)\n",
    "* [How to Give a Science Talk](https://drive.google.com/file/d/1KSJucv67WXzWANRHHONvOC6EGs_fx4mX/view?usp=drive_link)"
   ]
  },
  {
   "cell_type": "markdown",
   "id": "09396326",
   "metadata": {},
   "source": [
    "## Stage 1. Question Generation.\n",
    "\n",
    "* Interacting with marvin, all participants will generate potential research questions individually.\n",
    "* Any and all questions are encouraged at this stage (i.e., don't worry about whether they're answerable yet).\n",
    "* Each participant should write 3 questions on sentence strips.                                     "
   ]
  },
  {
   "cell_type": "markdown",
   "id": "5bef93cd",
   "metadata": {},
   "source": [
    "## Stage 2. Question Sorting/Synthesis.\n",
    "\n",
    "* The instructors will then sort the questions into broad categories.\n",
    "* When all participants come back together, questions and categories will be reviewed."
   ]
  },
  {
   "cell_type": "markdown",
   "id": "96a669dc",
   "metadata": {},
   "source": [
    "## Stage 3. Transition to Group Work, Picking a Question\n",
    "* The first step when you get into your research group is to review the [Group Contract](https://docs.google.com/document/d/16paPKIKjCP7p43Cqol2df9fIZnNxtelug9jFw4JDPag/edit?usp=sharing).  Consider whether you'd like to assign specific roles to each group member.\n",
    "* Then, discuss which question(s) you find most interesting.\n",
    "* Consider also whether the questions you're thinking of will be answerable with the tools available to you.\n",
    "* Groups should narrow their focus to a single question.  Then, they will run this question by their advisor, explaining how they plan to answer it.\n",
    "* Questions should be revised as needed based on feedback from the advisor.\n",
    "* When your group's research question is finalized, it should be recorded in a shared group document for future reference."
   ]
  },
  {
   "cell_type": "markdown",
   "id": "b1f00e00",
   "metadata": {},
   "source": [
    "## Stage 4. Experimental Design.\n",
    "\n",
    "* Groups should consider what galaxy sample is needed to answer the research question, and what measurements must be made.\n",
    "* These needs should be described to the advisor, who may provide feedback on the chosen approach.\n",
    "* After your group has iterated with your advisor, record your planned approach in a shared group document.  It should be clear from the document how, in detail, the planned measurements will be used to answer your research question.  That is, what quantities specifically will be measured?  And how will these quantities be helpful in answering your question?"
   ]
  },
  {
   "cell_type": "markdown",
   "id": "9c19a934",
   "metadata": {},
   "source": [
    "## Stage 5. Data Analysis.\n",
    "\n",
    "* This is the stage in which you actually perform your measurements.  It will take some time.  I'd recommend planning to spend at least two full days on this part, and ideally three.  That means you should aim to begin your data analysis on **Monday morning**, and no later than **Tuesday morning**."
   ]
  },
  {
   "cell_type": "markdown",
   "id": "6300ed03",
   "metadata": {},
   "source": [
    "## Stage 6. Preparation of Final Plots Describing Results.\n",
    "\n",
    "* Select the plots you would like to show in your talk that best summarize your main results.\n",
    "* Make sure all axes are legible, have correct units, symbols are large enough, etc.\n",
    "* I'd recommend getting started on this by **Thursday morning, first thing**."
   ]
  },
  {
   "cell_type": "markdown",
   "id": "9f4980d8",
   "metadata": {},
   "source": [
    "## Stage 7. Preparation of Presentation.  \n",
    "\n",
    "* I will give guidelines/recommendations on effective science presentations on Tuesday.\n",
    "* Keep in mind that all students in each group should spend approximately the same amount of time speaking during the group presentation.\n",
    "* Groups should spend some time rehearsing their presentation together, beginning **Thursday, mid-morning**."
   ]
  }
 ],
 "metadata": {
  "kernelspec": {
   "display_name": "Python 3 (ipykernel)",
   "language": "python",
   "name": "python3"
  },
  "language_info": {
   "codemirror_mode": {
    "name": "ipython",
    "version": 3
   },
   "file_extension": ".py",
   "mimetype": "text/x-python",
   "name": "python",
   "nbconvert_exporter": "python",
   "pygments_lexer": "ipython3",
   "version": "3.8.18"
  }
 },
 "nbformat": 4,
 "nbformat_minor": 5
}
